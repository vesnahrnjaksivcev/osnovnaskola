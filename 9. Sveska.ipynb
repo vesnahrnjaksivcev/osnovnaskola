{
 "cells": [
  {
   "cell_type": "markdown",
   "id": "1a727107-aa3f-4579-b1a4-2211bd365486",
   "metadata": {},
   "source": [
    "**<font color= red > Grafičko predstavljanje – histogram, zadaci za vežbanje </font>**"
   ]
  },
  {
   "cell_type": "markdown",
   "id": "71107e2a-46ed-4e99-882a-efade4267706",
   "metadata": {},
   "source": [
    "**Zadatak 1**\n",
    "\n",
    "Prvih deset mesta na ATP listi na dan 21.7.2019. izgleda ovako:\n"
   ]
  },
  {
   "cell_type": "code",
   "execution_count": null,
   "id": "b223a26d-d095-4b86-866c-98702fd84f35",
   "metadata": {},
   "outputs": [],
   "source": [
    "teniseri = [\"Đoković\", \"Nadal\", \"Federer\", \"Thiem\", \"Zverev\", \"Tsipras\", \"Nishikori\", \"Khachanov\", \"Fognini\", \"Medvedev\"]\n",
    "poeni    = [12415,      7945,    7460,      4595,   4325,     4045,       4040,        2890,        2785,      2625]"
   ]
  },
  {
   "cell_type": "code",
   "execution_count": null,
   "id": "ff0bb716-46f8-4417-b032-6422839ecb3f",
   "metadata": {},
   "outputs": [],
   "source": [
    "Prikaži histogramom podatke o ATP poenima prvih deset tenisera na svetu."
   ]
  },
  {
   "cell_type": "code",
   "execution_count": null,
   "id": "0c508022-38ff-4a9b-830a-f257f1bf4611",
   "metadata": {},
   "outputs": [],
   "source": []
  },
  {
   "cell_type": "markdown",
   "id": "e469959d-ebdb-4cdd-9e0a-bd0868cb81bb",
   "metadata": {},
   "source": [
    "**Zadatak 2**\n",
    "\n",
    "Biolozi su do danas opisali oko dva miliona vrsta živih bića. Sva ona su podeljena u pet carstava. Njihov približan broj po carstvima je dat sledećom tabelom:\n"
   ]
  },
  {
   "attachments": {
    "1461f24b-7305-4502-8ed8-bf89a896c4d0.png": {
     "image/png": "[encoded data removed]"
    }
   },
   "cell_type": "markdown",
   "id": "8ca1c250-6667-430f-918d-7edbff4e1563",
   "metadata": {},
   "source": [
    "![bar3.png](attachment:1461f24b-7305-4502-8ed8-bf89a896c4d0.png)"
   ]
  },
  {
   "cell_type": "code",
   "execution_count": null,
   "id": "4264ba8c-ce56-4967-bf65-0646d81c788c",
   "metadata": {},
   "outputs": [],
   "source": [
    "carstvo    = [\"životinje\", \"biljke\", \"gljive\", \"protisti\", \"monere\"]\n",
    "brojvrsta  = [1400000,  290000,   100000,    200000, 10000]"
   ]
  },
  {
   "cell_type": "code",
   "execution_count": null,
   "id": "792c52fe-df57-4348-b751-7060758e9c4c",
   "metadata": {},
   "outputs": [],
   "source": []
  },
  {
   "cell_type": "markdown",
   "id": "51a39a35-e6f0-4c2c-a1aa-08f8c5b02a01",
   "metadata": {},
   "source": [
    "**Zadatak 3**\n",
    "\n",
    "U sledećoj tabeli su prikazane najviše i najniže temperature (u ∘C) ikada izmerene na kontinentima:\n"
   ]
  },
  {
   "attachments": {
    "5ba14e49-7362-41cb-8027-f77f30bfc533.png": {
     "image/png": "[encoded data removed]"
    }
   },
   "cell_type": "markdown",
   "id": "3b4fc1f0-707f-4588-ace1-36cecfa729ad",
   "metadata": {},
   "source": [
    "![bar4.png](attachment:5ba14e49-7362-41cb-8027-f77f30bfc533.png)"
   ]
  },
  {
   "cell_type": "markdown",
   "id": "d0fe6a55-7d4c-4d3b-bbad-829338e99988",
   "metadata": {},
   "source": [
    "Prikaži oba niza podataka histogramima na istom grafikonu. Neka maksimalne temperature budu predstavljene crvenim stubićima, a minimalne plavim. (Podaci su preuzeti sa stranice https://www.space.com/17816-earth-temperature.html)"
   ]
  },
  {
   "cell_type": "code",
   "execution_count": null,
   "id": "f5bfcc82-291a-4c0b-aad1-d93d44046bbf",
   "metadata": {},
   "outputs": [],
   "source": [
    "kontinenti=[\"Evropa\", \"Azija\", \"Afrika\", \"S.Amerika\", \"J.Amerika\", \"Australija\", \"Antarktik\"]\n",
    "max    = [48, 54, 55, 56.7, 48.9, 50.7, 19.8]\n",
    "min  = [-58.1, -67.8, -23.9, -63, -32.8, -23, -89.2]\n"
   ]
  }
 ],
 "metadata": {
  "kernelspec": {
   "display_name": "Python 3 (ipykernel)",
   "language": "python",
   "name": "python3"
  },
  "language_info": {
   "codemirror_mode": {
    "name": "ipython",
    "version": 3
   },
   "file_extension": ".py",
   "mimetype": "text/x-python",
   "name": "python",
   "nbconvert_exporter": "python",
   "pygments_lexer": "ipython3",
   "version": "3.7.12"
  }
 },
 "nbformat": 4,
 "nbformat_minor": 5
}
